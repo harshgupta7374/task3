{
 "cells": [
  {
   "cell_type": "markdown",
   "id": "380ba58d",
   "metadata": {},
   "source": [
    "# TASK-3"
   ]
  },
  {
   "cell_type": "markdown",
   "id": "3ebd4d93",
   "metadata": {},
   "source": [
    "# Reg id:- SIRSS2130"
   ]
  },
  {
   "cell_type": "markdown",
   "id": "1ca4d66e",
   "metadata": {},
   "source": [
    "# HARSHIT GUPTA"
   ]
  },
  {
   "cell_type": "markdown",
   "id": "6364d57c",
   "metadata": {},
   "source": [
    "# Q1. Write a function to return nth term of Fibonacci sequence."
   ]
  },
  {
   "cell_type": "code",
   "execution_count": 27,
   "id": "2fc10626",
   "metadata": {},
   "outputs": [
    {
     "name": "stdout",
     "output_type": "stream",
     "text": [
      "10\n",
      "10 term of fibonacci sequence is : 34\n"
     ]
    }
   ],
   "source": [
    "def fibon(n):\n",
    "    sum=0\n",
    "    if(n==1):\n",
    "        sum = 0\n",
    "    elif (n==2):\n",
    "        sum =  1\n",
    "    else:\n",
    "        a=0\n",
    "        b=1\n",
    "        for i in range (3,n+1):\n",
    "            sum = a + b\n",
    "            a=b\n",
    "            b=sum\n",
    "    return sum\n",
    "\n",
    "n=int(input());\n",
    "p=fibon(n)\n",
    "print(n,\"term of fibonacci sequence is :\",p)"
   ]
  },
  {
   "cell_type": "markdown",
   "id": "b5c450c5",
   "metadata": {},
   "source": [
    "# Q2. Write a function to find out GCD of two numbers using EUCLID'S algorithm."
   ]
  },
  {
   "cell_type": "code",
   "execution_count": 29,
   "id": "312234e3",
   "metadata": {},
   "outputs": [
    {
     "name": "stdout",
     "output_type": "stream",
     "text": [
      "Enter first number for GCD:4\n",
      "Enter secound number for GCD:8\n",
      "GCD of given two number  4 and 8 is : 4\n"
     ]
    }
   ],
   "source": [
    "def gcd(m,n):\n",
    "    if m< n: \n",
    "        (m,n) = (n,m)\n",
    "    while (m % n != 0):\n",
    "        (m, n) = (n, m % n)\n",
    "    return n\n",
    "m=int(input(\"Enter first number for GCD:\"));\n",
    "n=int(input(\"Enter secound number for GCD:\"));\n",
    "p=gcd(m,n)\n",
    "print(\"GCD of given two number \",m,\"and\",n,\"is :\",p)"
   ]
  },
  {
   "cell_type": "markdown",
   "id": "4e1ba83a",
   "metadata": {},
   "source": [
    "# Q3. Write a function to find LCM of two number in most optimizers way."
   ]
  },
  {
   "cell_type": "code",
   "execution_count": 31,
   "id": "d1571c0b",
   "metadata": {},
   "outputs": [
    {
     "name": "stdout",
     "output_type": "stream",
     "text": [
      "Enter first number for LCM:5\n",
      "Enter secound number for LCM:2\n",
      "lcm of given two number  5 and 2 is : 10\n"
     ]
    }
   ],
   "source": [
    "def gcd(a,b):\n",
    "    if a == 0:\n",
    "        return b\n",
    "    return gcd(b % a, a)\n",
    "def lcm(a,b):\n",
    "    return (a / gcd(a,b))* b\n",
    "m=int(input(\"Enter first number for LCM:\"));\n",
    "n=int(input(\"Enter secound number for LCM:\"));\n",
    "p=int(lcm(m,n))\n",
    "print(\"lcm of given two number \",m,\"and\",n,\"is :\",p)"
   ]
  },
  {
   "cell_type": "code",
   "execution_count": null,
   "id": "5bced512",
   "metadata": {},
   "outputs": [],
   "source": []
  }
 ],
 "metadata": {
  "kernelspec": {
   "display_name": "Python 3",
   "language": "python",
   "name": "python3"
  },
  "language_info": {
   "codemirror_mode": {
    "name": "ipython",
    "version": 3
   },
   "file_extension": ".py",
   "mimetype": "text/x-python",
   "name": "python",
   "nbconvert_exporter": "python",
   "pygments_lexer": "ipython3",
   "version": "3.8.8"
  }
 },
 "nbformat": 4,
 "nbformat_minor": 5
}
